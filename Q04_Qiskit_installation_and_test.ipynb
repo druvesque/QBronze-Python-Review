{
 "cells": [
  {
   "cell_type": "markdown",
   "metadata": {},
   "source": [
    "<a href=\"https://qworld.net\" target=\"_blank\" align=\"left\"><img src=\"../qworld/images/header.jpg\"  align=\"left\"></a>\n",
    "$ \\newcommand{\\bra}[1]{\\langle #1|} $\n",
    "$ \\newcommand{\\ket}[1]{|#1\\rangle} $\n",
    "$ \\newcommand{\\braket}[2]{\\langle #1|#2\\rangle} $\n",
    "$ \\newcommand{\\dot}[2]{ #1 \\cdot #2} $\n",
    "$ \\newcommand{\\biginner}[2]{\\left\\langle #1,#2\\right\\rangle} $\n",
    "$ \\newcommand{\\mymatrix}[2]{\\left( \\begin{array}{#1} #2\\end{array} \\right)} $\n",
    "$ \\newcommand{\\myvector}[1]{\\mymatrix{c}{#1}} $\n",
    "$ \\newcommand{\\myrvector}[1]{\\mymatrix{r}{#1}} $\n",
    "$ \\newcommand{\\mypar}[1]{\\left( #1 \\right)} $\n",
    "$ \\newcommand{\\mybigpar}[1]{ \\Big( #1 \\Big)} $\n",
    "$ \\newcommand{\\sqrttwo}{\\frac{1}{\\sqrt{2}}} $\n",
    "$ \\newcommand{\\dsqrttwo}{\\dfrac{1}{\\sqrt{2}}} $\n",
    "$ \\newcommand{\\onehalf}{\\frac{1}{2}} $\n",
    "$ \\newcommand{\\donehalf}{\\dfrac{1}{2}} $\n",
    "$ \\newcommand{\\hadamard}{ \\mymatrix{rr}{ \\sqrttwo & \\sqrttwo \\\\ \\sqrttwo & -\\sqrttwo }} $\n",
    "$ \\newcommand{\\vzero}{\\myvector{1\\\\0}} $\n",
    "$ \\newcommand{\\vone}{\\myvector{0\\\\1}} $\n",
    "$ \\newcommand{\\stateplus}{\\myvector{ \\sqrttwo \\\\  \\sqrttwo } } $\n",
    "$ \\newcommand{\\stateminus}{ \\myrvector{ \\sqrttwo \\\\ -\\sqrttwo } } $\n",
    "$ \\newcommand{\\myarray}[2]{ \\begin{array}{#1}#2\\end{array}} $\n",
    "$ \\newcommand{\\X}{ \\mymatrix{cc}{0 & 1 \\\\ 1 & 0}  } $\n",
    "$ \\newcommand{\\I}{ \\mymatrix{rr}{1 & 0 \\\\ 0 & 1}  } $\n",
    "$ \\newcommand{\\Z}{ \\mymatrix{rr}{1 & 0 \\\\ 0 & -1}  } $\n",
    "$ \\newcommand{\\Htwo}{ \\mymatrix{rrrr}{ \\frac{1}{2} & \\frac{1}{2} & \\frac{1}{2} & \\frac{1}{2} \\\\ \\frac{1}{2} & -\\frac{1}{2} & \\frac{1}{2} & -\\frac{1}{2} \\\\ \\frac{1}{2} & \\frac{1}{2} & -\\frac{1}{2} & -\\frac{1}{2} \\\\ \\frac{1}{2} & -\\frac{1}{2} & -\\frac{1}{2} & \\frac{1}{2} } } $\n",
    "$ \\newcommand{\\CNOT}{ \\mymatrix{cccc}{1 & 0 & 0 & 0 \\\\ 0 & 1 & 0 & 0 \\\\ 0 & 0 & 0 & 1 \\\\ 0 & 0 & 1 & 0} } $\n",
    "$ \\newcommand{\\norm}[1]{ \\left\\lVert #1 \\right\\rVert } $\n",
    "$ \\newcommand{\\pstate}[1]{ \\lceil \\mspace{-1mu} #1 \\mspace{-1.5mu} \\rfloor } $\n",
    "$ \\newcommand{\\greenbit}[1] {\\mathbf{{\\color{green}#1}}} $\n",
    "$ \\newcommand{\\bluebit}[1] {\\mathbf{{\\color{blue}#1}}} $\n",
    "$ \\newcommand{\\redbit}[1] {\\mathbf{{\\color{red}#1}}} $\n",
    "$ \\newcommand{\\brownbit}[1] {\\mathbf{{\\color{brown}#1}}} $\n",
    "$ \\newcommand{\\blackbit}[1] {\\mathbf{{\\color{black}#1}}} $"
   ]
  },
  {
   "cell_type": "markdown",
   "metadata": {},
   "source": [
    "<font style=\"font-size:28px;\" align=\"left\"><b> Qiskit installation and test </b></font>\n",
    "<br>\n",
    "_prepared by Abuzer Yakaryilmaz_\n",
    "<br><br>"
   ]
  },
  {
   "cell_type": "markdown",
   "metadata": {},
   "source": [
    "- [Check your system](#check)\n",
    "- [Install qiskit](#install)\n",
    "- [Tips](#tips)\n",
    "- [Execute an example quantum program](#test)\n",
    "- [Complete test](#complete)"
   ]
  },
  {
   "cell_type": "markdown",
   "metadata": {},
   "source": [
    "<hr id=\"check\">\n",
    "\n",
    "### Check your system\n",
    "\n",
    "Check your system, if Qiskit has already been installed:"
   ]
  },
  {
   "cell_type": "code",
   "execution_count": 3,
   "metadata": {},
   "outputs": [
    {
     "name": "stdout",
     "output_type": "stream",
     "text": [
      "The version of Qiskit is 1.1.0\n"
     ]
    }
   ],
   "source": [
    "import qiskit\n",
    "versions = qiskit.__version__\n",
    "print(\"The version of Qiskit is\",versions)"
   ]
  },
  {
   "cell_type": "markdown",
   "metadata": {},
   "source": [
    "**You should be able to see the version number of any library that is already installed in your system.**"
   ]
  },
  {
   "cell_type": "markdown",
   "metadata": {},
   "source": [
    "<hr id=\"install\">\n",
    "\n",
    "### Install qiskit\n",
    "\n",
    "(If you are an experienced user, visit this link: https://docs.quantum-computing.ibm.com/start/install)\n",
    "\n",
    "You can install Qiskit by executing the following cell:"
   ]
  },
  {
   "cell_type": "code",
   "execution_count": 11,
   "metadata": {},
   "outputs": [],
   "source": [
    "!pip install \"qiskit[visualization]\">=1.0 --user"
   ]
  },
  {
   "cell_type": "code",
   "execution_count": 3,
   "metadata": {},
   "outputs": [
    {
     "name": "stdout",
     "output_type": "stream",
     "text": [
      "Collecting qiskit-aer\n",
      "  Downloading qiskit_aer-0.14.1-cp311-cp311-win_amd64.whl.metadata (8.2 kB)\n",
      "Requirement already satisfied: qiskit>=0.45.0 in c:\\users\\dhruv\\appdata\\roaming\\python\\python311\\site-packages (from qiskit-aer) (1.1.0)\n",
      "Requirement already satisfied: numpy>=1.16.3 in c:\\users\\dhruv\\anaconda3\\lib\\site-packages (from qiskit-aer) (1.26.4)\n",
      "Requirement already satisfied: scipy>=1.0 in c:\\users\\dhruv\\anaconda3\\lib\\site-packages (from qiskit-aer) (1.11.4)\n",
      "Requirement already satisfied: psutil>=5 in c:\\users\\dhruv\\anaconda3\\lib\\site-packages (from qiskit-aer) (5.9.0)\n",
      "Requirement already satisfied: rustworkx>=0.14.0 in c:\\users\\dhruv\\appdata\\roaming\\python\\python311\\site-packages (from qiskit>=0.45.0->qiskit-aer) (0.14.2)\n",
      "Requirement already satisfied: sympy>=1.3 in c:\\users\\dhruv\\anaconda3\\lib\\site-packages (from qiskit>=0.45.0->qiskit-aer) (1.12)\n",
      "Requirement already satisfied: dill>=0.3 in c:\\users\\dhruv\\anaconda3\\lib\\site-packages (from qiskit>=0.45.0->qiskit-aer) (0.3.7)\n",
      "Requirement already satisfied: python-dateutil>=2.8.0 in c:\\users\\dhruv\\anaconda3\\lib\\site-packages (from qiskit>=0.45.0->qiskit-aer) (2.8.2)\n",
      "Requirement already satisfied: stevedore>=3.0.0 in c:\\users\\dhruv\\appdata\\roaming\\python\\python311\\site-packages (from qiskit>=0.45.0->qiskit-aer) (5.2.0)\n",
      "Requirement already satisfied: typing-extensions in c:\\users\\dhruv\\anaconda3\\lib\\site-packages (from qiskit>=0.45.0->qiskit-aer) (4.9.0)\n",
      "Requirement already satisfied: symengine>=0.11 in c:\\users\\dhruv\\appdata\\roaming\\python\\python311\\site-packages (from qiskit>=0.45.0->qiskit-aer) (0.11.0)\n",
      "Requirement already satisfied: six>=1.5 in c:\\users\\dhruv\\anaconda3\\lib\\site-packages (from python-dateutil>=2.8.0->qiskit>=0.45.0->qiskit-aer) (1.16.0)\n",
      "Requirement already satisfied: pbr!=2.1.0,>=2.0.0 in c:\\users\\dhruv\\appdata\\roaming\\python\\python311\\site-packages (from stevedore>=3.0.0->qiskit>=0.45.0->qiskit-aer) (6.0.0)\n",
      "Requirement already satisfied: mpmath>=0.19 in c:\\users\\dhruv\\anaconda3\\lib\\site-packages (from sympy>=1.3->qiskit>=0.45.0->qiskit-aer) (1.3.0)\n",
      "Downloading qiskit_aer-0.14.1-cp311-cp311-win_amd64.whl (9.5 MB)\n",
      "   ---------------------------------------- 0.0/9.5 MB ? eta -:--:--\n",
      "   ---------------------------------------- 0.1/9.5 MB 1.3 MB/s eta 0:00:08\n",
      "    --------------------------------------- 0.2/9.5 MB 1.8 MB/s eta 0:00:06\n",
      "    --------------------------------------- 0.2/9.5 MB 1.6 MB/s eta 0:00:06\n",
      "   - -------------------------------------- 0.3/9.5 MB 1.6 MB/s eta 0:00:06\n",
      "   - -------------------------------------- 0.3/9.5 MB 1.5 MB/s eta 0:00:07\n",
      "   - -------------------------------------- 0.5/9.5 MB 1.7 MB/s eta 0:00:06\n",
      "   -- ------------------------------------- 0.5/9.5 MB 1.7 MB/s eta 0:00:06\n",
      "   -- ------------------------------------- 0.6/9.5 MB 1.7 MB/s eta 0:00:06\n",
      "   --- ------------------------------------ 0.7/9.5 MB 1.8 MB/s eta 0:00:05\n",
      "   --- ------------------------------------ 0.8/9.5 MB 1.8 MB/s eta 0:00:05\n",
      "   --- ------------------------------------ 0.9/9.5 MB 1.9 MB/s eta 0:00:05\n",
      "   ---- ----------------------------------- 1.0/9.5 MB 1.9 MB/s eta 0:00:05\n",
      "   ---- ----------------------------------- 1.1/9.5 MB 1.8 MB/s eta 0:00:05\n",
      "   ---- ----------------------------------- 1.2/9.5 MB 1.8 MB/s eta 0:00:05\n",
      "   ----- ---------------------------------- 1.2/9.5 MB 1.8 MB/s eta 0:00:05\n",
      "   ----- ---------------------------------- 1.3/9.5 MB 1.8 MB/s eta 0:00:05\n",
      "   ----- ---------------------------------- 1.3/9.5 MB 1.7 MB/s eta 0:00:05\n",
      "   ----- ---------------------------------- 1.4/9.5 MB 1.7 MB/s eta 0:00:05\n",
      "   ------ --------------------------------- 1.5/9.5 MB 1.7 MB/s eta 0:00:05\n",
      "   ------ --------------------------------- 1.5/9.5 MB 1.6 MB/s eta 0:00:05\n",
      "   ------ --------------------------------- 1.6/9.5 MB 1.7 MB/s eta 0:00:05\n",
      "   ------- -------------------------------- 1.7/9.5 MB 1.7 MB/s eta 0:00:05\n",
      "   ------- -------------------------------- 1.8/9.5 MB 1.7 MB/s eta 0:00:05\n",
      "   ------- -------------------------------- 1.9/9.5 MB 1.7 MB/s eta 0:00:05\n",
      "   -------- ------------------------------- 1.9/9.5 MB 1.7 MB/s eta 0:00:05\n",
      "   -------- ------------------------------- 2.1/9.5 MB 1.7 MB/s eta 0:00:05\n",
      "   --------- ------------------------------ 2.2/9.5 MB 1.7 MB/s eta 0:00:05\n",
      "   --------- ------------------------------ 2.3/9.5 MB 1.7 MB/s eta 0:00:05\n",
      "   --------- ------------------------------ 2.3/9.5 MB 1.7 MB/s eta 0:00:05\n",
      "   --------- ------------------------------ 2.4/9.5 MB 1.7 MB/s eta 0:00:05\n",
      "   ---------- ----------------------------- 2.4/9.5 MB 1.7 MB/s eta 0:00:05\n",
      "   ---------- ----------------------------- 2.5/9.5 MB 1.7 MB/s eta 0:00:05\n",
      "   ----------- ---------------------------- 2.6/9.5 MB 1.7 MB/s eta 0:00:05\n",
      "   ----------- ---------------------------- 2.7/9.5 MB 1.7 MB/s eta 0:00:05\n",
      "   ----------- ---------------------------- 2.8/9.5 MB 1.7 MB/s eta 0:00:04\n",
      "   ----------- ---------------------------- 2.8/9.5 MB 1.7 MB/s eta 0:00:04\n",
      "   ------------ --------------------------- 2.9/9.5 MB 1.7 MB/s eta 0:00:04\n",
      "   ------------ --------------------------- 3.0/9.5 MB 1.7 MB/s eta 0:00:04\n",
      "   ------------- -------------------------- 3.1/9.5 MB 1.7 MB/s eta 0:00:04\n",
      "   ------------- -------------------------- 3.2/9.5 MB 1.7 MB/s eta 0:00:04\n",
      "   -------------- ------------------------- 3.3/9.5 MB 1.7 MB/s eta 0:00:04\n",
      "   -------------- ------------------------- 3.5/9.5 MB 1.8 MB/s eta 0:00:04\n",
      "   --------------- ------------------------ 3.7/9.5 MB 1.8 MB/s eta 0:00:04\n",
      "   ---------------- ----------------------- 3.8/9.5 MB 1.9 MB/s eta 0:00:04\n",
      "   ---------------- ----------------------- 4.0/9.5 MB 1.9 MB/s eta 0:00:03\n",
      "   ------------------ --------------------- 4.3/9.5 MB 2.0 MB/s eta 0:00:03\n",
      "   ------------------- -------------------- 4.6/9.5 MB 2.1 MB/s eta 0:00:03\n",
      "   --------------------- ------------------ 5.0/9.5 MB 2.2 MB/s eta 0:00:03\n",
      "   ---------------------- ----------------- 5.3/9.5 MB 2.3 MB/s eta 0:00:02\n",
      "   ------------------------ --------------- 5.7/9.5 MB 2.5 MB/s eta 0:00:02\n",
      "   ------------------------- -------------- 6.1/9.5 MB 2.5 MB/s eta 0:00:02\n",
      "   -------------------------- ------------- 6.4/9.5 MB 2.6 MB/s eta 0:00:02\n",
      "   ---------------------------- ----------- 6.7/9.5 MB 2.7 MB/s eta 0:00:02\n",
      "   ------------------------------ --------- 7.2/9.5 MB 2.9 MB/s eta 0:00:01\n",
      "   ------------------------------ --------- 7.3/9.5 MB 2.9 MB/s eta 0:00:01\n",
      "   ------------------------------ --------- 7.3/9.5 MB 2.9 MB/s eta 0:00:01\n",
      "   ------------------------------ --------- 7.3/9.5 MB 2.9 MB/s eta 0:00:01\n",
      "   ------------------------------ --------- 7.3/9.5 MB 2.9 MB/s eta 0:00:01\n",
      "   ------------------------------ --------- 7.3/9.5 MB 2.9 MB/s eta 0:00:01\n",
      "   ------------------------------- -------- 7.6/9.5 MB 2.7 MB/s eta 0:00:01\n",
      "   --------------------------------- ------ 8.0/9.5 MB 2.8 MB/s eta 0:00:01\n",
      "   ----------------------------------- ---- 8.4/9.5 MB 2.9 MB/s eta 0:00:01\n",
      "   ------------------------------------ --- 8.7/9.5 MB 3.0 MB/s eta 0:00:01\n",
      "   -------------------------------------- - 9.1/9.5 MB 3.0 MB/s eta 0:00:01\n",
      "   ---------------------------------------  9.5/9.5 MB 3.1 MB/s eta 0:00:01\n",
      "   ---------------------------------------  9.5/9.5 MB 3.1 MB/s eta 0:00:01\n",
      "   ---------------------------------------- 9.5/9.5 MB 3.1 MB/s eta 0:00:00\n",
      "Installing collected packages: qiskit-aer\n",
      "Successfully installed qiskit-aer-0.14.1\n"
     ]
    }
   ],
   "source": [
    "!pip install qiskit-aer --user"
   ]
  },
  {
   "cell_type": "markdown",
   "metadata": {},
   "source": [
    "__*Restart the kernel*__ (check \"Kernel\" menu) to apply the changes to the current notebook."
   ]
  },
  {
   "cell_type": "markdown",
   "metadata": {},
   "source": [
    "<hr id=\"tips\">\n",
    "\n",
    "### Tips\n",
    "\n",
    "_Any terminal/shell command can be executed in the notebook cells by putting an exclamation mark (!) at the beginning of the command._\n",
    "\n",
    "_$\\rightarrow$ To update Qiskit to the latest version, execute the following command in a code cell_\n",
    "\n",
    "    !pip install -U qiskit --user\n",
    "    \n",
    "_$\\rightarrow$ To uninstall Qiskit, execute the following command in a code cell_\n",
    "\n",
    "    !pip uninstall qiskit"
   ]
  },
  {
   "cell_type": "code",
   "execution_count": 6,
   "metadata": {},
   "outputs": [
    {
     "name": "stdout",
     "output_type": "stream",
     "text": [
      "Requirement already satisfied: qiskit in c:\\users\\dhruv\\appdata\\roaming\\python\\python311\\site-packages (1.1.0)\n",
      "Requirement already satisfied: rustworkx>=0.14.0 in c:\\users\\dhruv\\appdata\\roaming\\python\\python311\\site-packages (from qiskit) (0.14.2)\n",
      "Requirement already satisfied: numpy<3,>=1.17 in c:\\users\\dhruv\\anaconda3\\lib\\site-packages (from qiskit) (1.26.4)\n",
      "Requirement already satisfied: scipy>=1.5 in c:\\users\\dhruv\\anaconda3\\lib\\site-packages (from qiskit) (1.11.4)\n",
      "Requirement already satisfied: sympy>=1.3 in c:\\users\\dhruv\\anaconda3\\lib\\site-packages (from qiskit) (1.12)\n",
      "Requirement already satisfied: dill>=0.3 in c:\\users\\dhruv\\anaconda3\\lib\\site-packages (from qiskit) (0.3.7)\n",
      "Requirement already satisfied: python-dateutil>=2.8.0 in c:\\users\\dhruv\\anaconda3\\lib\\site-packages (from qiskit) (2.8.2)\n",
      "Requirement already satisfied: stevedore>=3.0.0 in c:\\users\\dhruv\\appdata\\roaming\\python\\python311\\site-packages (from qiskit) (5.2.0)\n",
      "Requirement already satisfied: typing-extensions in c:\\users\\dhruv\\anaconda3\\lib\\site-packages (from qiskit) (4.9.0)\n",
      "Requirement already satisfied: symengine>=0.11 in c:\\users\\dhruv\\appdata\\roaming\\python\\python311\\site-packages (from qiskit) (0.11.0)\n",
      "Requirement already satisfied: six>=1.5 in c:\\users\\dhruv\\anaconda3\\lib\\site-packages (from python-dateutil>=2.8.0->qiskit) (1.16.0)\n",
      "Requirement already satisfied: pbr!=2.1.0,>=2.0.0 in c:\\users\\dhruv\\appdata\\roaming\\python\\python311\\site-packages (from stevedore>=3.0.0->qiskit) (6.0.0)\n",
      "Requirement already satisfied: mpmath>=0.19 in c:\\users\\dhruv\\anaconda3\\lib\\site-packages (from sympy>=1.3->qiskit) (1.3.0)\n"
     ]
    }
   ],
   "source": [
    "!pip install -U qiskit --user\n",
    "#!pip uninstall qiskit"
   ]
  },
  {
   "cell_type": "markdown",
   "metadata": {},
   "source": [
    "<hr id=\"test\">\n",
    "\n",
    "### Execute an example quantum program\n"
   ]
  },
  {
   "cell_type": "markdown",
   "metadata": {},
   "source": [
    "1) Create a quantum circuit"
   ]
  },
  {
   "cell_type": "code",
   "execution_count": 1,
   "metadata": {},
   "outputs": [
    {
     "name": "stdout",
     "output_type": "stream",
     "text": [
      "The execution of the cell was completed, and the circuit was created :)\n"
     ]
    }
   ],
   "source": [
    "# import the objects from qiskit\n",
    "from qiskit import QuantumRegister, ClassicalRegister, QuantumCircuit\n",
    "from qiskit_aer import AerSimulator\n",
    "from random import randrange\n",
    "\n",
    "# create a quantum circuit and its register objects\n",
    "qreg = QuantumRegister(2) # quantum register with two quantum bits\n",
    "creg = ClassicalRegister(2) # classical register with two classical bit\n",
    "circuit = QuantumCircuit(qreg,creg) # quantum circuit composed by a quantum register and a classical register\n",
    "\n",
    "# apply a Hadamard gate to the first qubit\n",
    "circuit.h(qreg[0])\n",
    "\n",
    "# set the second qubit to state |1>\n",
    "circuit.x(qreg[1])\n",
    "\n",
    "# apply CNOT(first_qubit,second_qubit)\n",
    "circuit.cx(qreg[0],qreg[1])\n",
    "\n",
    "# measure the both qubits\n",
    "circuit.measure(qreg,creg)\n",
    "\n",
    "print(\"The execution of the cell was completed, and the circuit was created :)\")"
   ]
  },
  {
   "cell_type": "markdown",
   "metadata": {},
   "source": [
    "2) Draw the circuit\n",
    "\n",
    "_Run the cell once more if the figure is not shown_"
   ]
  },
  {
   "cell_type": "code",
   "execution_count": 2,
   "metadata": {},
   "outputs": [
    {
     "data": {
      "image/png": "[encoded data removed]",
      "text/plain": [
       "<Figure size 472.747x284.278 with 1 Axes>"
      ]
     },
     "execution_count": 2,
     "metadata": {},
     "output_type": "execute_result"
    }
   ],
   "source": [
    "# draw circuit \n",
    "circuit.draw(output='mpl')\n",
    "\n",
    "# the output will be a \"matplotlib.Figure\" object"
   ]
  },
  {
   "cell_type": "markdown",
   "metadata": {},
   "source": [
    "3) Execute the circuit 1024 times in the local simulator and print the observed the outcomes"
   ]
  },
  {
   "cell_type": "code",
   "execution_count": 4,
   "metadata": {},
   "outputs": [
    {
     "name": "stdout",
     "output_type": "stream",
     "text": [
      "{'10': 501, '01': 523}\n"
     ]
    }
   ],
   "source": [
    "## execute the circuit 1024 times\n",
    "job = AerSimulator().run(circuit,shots=1024)\n",
    "# get the result\n",
    "counts = job.result().get_counts(circuit)\n",
    "print(counts)"
   ]
  },
  {
   "cell_type": "markdown",
   "metadata": {},
   "source": [
    "<hr id=\"complete\">\n",
    "\n",
    "### Complete test\n",
    "\n",
    "Here we put all methods and objects of Qiskit used througout this tutorial (see [Qiskit: Quick Reference](Q01_Qiskit_Reference.ipynb) for a complete list).\n",
    "\n",
    "By running the cell below, you should be able to test whether your Qiskit installation is ready for our tutorial.\n",
    "\n",
    "_It was tested with Qiskit 1.0.0 on April 12, 2024._"
   ]
  },
  {
   "cell_type": "code",
   "execution_count": 5,
   "metadata": {},
   "outputs": [
    {
     "data": {
      "text/html": [
       "<pre style=\"word-wrap: normal;white-space: pre;background: #fff0;line-height: 1.1;font-family: &quot;Courier New&quot;,Courier,monospace\">                 ┌───┐┌───────────────┐┌───┐ ░ ┌─┐            \n",
       "q_0: ────────────┤ X ├┤ U(2π/7,0,0,0) ├┤ X ├─░─┤M├────────────\n",
       "        ┌───┐    └─┬─┘└───────┬───────┘└─┬─┘ ░ └╥┘┌─┐         \n",
       "q_1: ───┤ H ├──────■──────────■──────────■───░──╫─┤M├─────────\n",
       "        ├───┤                            │   ░  ║ └╥┘┌─┐      \n",
       "q_2: ───┤ X ├────────────────────────────■───░──╫──╫─┤M├──────\n",
       "     ┌──┴───┴───┐                            ░  ║  ║ └╥┘┌─┐   \n",
       "q_3: ┤ Ry(2π/7) ├────────────────────────────░──╫──╫──╫─┤M├───\n",
       "     └──┬───┬───┘                            ░  ║  ║  ║ └╥┘┌─┐\n",
       "q_4: ───┤ Z ├────────────────────────────────░──╫──╫──╫──╫─┤M├\n",
       "        └───┘                                ░  ║  ║  ║  ║ └╥┘\n",
       "c: 5/═══════════════════════════════════════════╩══╩══╩══╩══╩═\n",
       "                                                3  1  4  0  2 </pre>"
      ],
      "text/plain": [
       "                 ┌───┐┌───────────────┐┌───┐ ░ ┌─┐            \n",
       "q_0: ────────────┤ X ├┤ U(2π/7,0,0,0) ├┤ X ├─░─┤M├────────────\n",
       "        ┌───┐    └─┬─┘└───────┬───────┘└─┬─┘ ░ └╥┘┌─┐         \n",
       "q_1: ───┤ H ├──────■──────────■──────────■───░──╫─┤M├─────────\n",
       "        ├───┤                            │   ░  ║ └╥┘┌─┐      \n",
       "q_2: ───┤ X ├────────────────────────────■───░──╫──╫─┤M├──────\n",
       "     ┌──┴───┴───┐                            ░  ║  ║ └╥┘┌─┐   \n",
       "q_3: ┤ Ry(2π/7) ├────────────────────────────░──╫──╫──╫─┤M├───\n",
       "     └──┬───┬───┘                            ░  ║  ║  ║ └╥┘┌─┐\n",
       "q_4: ───┤ Z ├────────────────────────────────░──╫──╫──╫──╫─┤M├\n",
       "        └───┘                                ░  ║  ║  ║  ║ └╥┘\n",
       "c: 5/═══════════════════════════════════════════╩══╩══╩══╩══╩═\n",
       "                                                3  1  4  0  2 "
      ]
     },
     "metadata": {},
     "output_type": "display_data"
    },
    {
     "data": {
      "image/png": "[encoded data removed]",
      "text/plain": [
       "<Figure size 1625.27x535.111 with 1 Axes>"
      ]
     },
     "metadata": {},
     "output_type": "display_data"
    },
    {
     "name": "stdout",
     "output_type": "stream",
     "text": [
      "measurement outcomes are: {'10000': 395, '11010': 85, '10001': 89, '10011': 82, '11011': 23, '10010': 326}\n",
      "\n",
      "unitary matrix is\n",
      "[[ 0.   +0.j  0.   +0.j  0.532+0.j  0.847-0.j]\n",
      " [ 0.847+0.j -0.532+0.j  0.   +0.j  0.   +0.j]\n",
      " [ 0.532+0.j  0.847-0.j  0.   +0.j  0.   +0.j]\n",
      " [ 0.   +0.j  0.   +0.j  0.847+0.j -0.532+0.j]]\n",
      "\n",
      "quantum state is\n",
      "0.0+0.0j\n",
      "0.847+0.0j\n",
      "0.532+0.0j\n",
      "0.0+0.0j\n",
      "\n",
      "All looks fine :-)\n"
     ]
    }
   ],
   "source": [
    "from qiskit import QuantumRegister, ClassicalRegister, QuantumCircuit\n",
    "from qiskit_aer import AerSimulator, UnitarySimulator, StatevectorSimulator\n",
    "from math import pi\n",
    "\n",
    "# A quantum circuit is composed by a quantum and a classical register in Qiskit\n",
    "q = QuantumRegister(5,\"q\") # this quantum register has 5 qubits\n",
    "c = ClassicalRegister(5,\"c\") # this classical register has 5 classical bits\n",
    "\n",
    "qc = QuantumCircuit(q,c) # a quantum circuit with quantum and classical registers q and c\n",
    "\n",
    "qc.x(q[2]) # apply x-gate to the qubit \"q[2]\" of the quantum circuit \"qc\"\n",
    "qc.z(q[4]) # apply z-gate to the qubit \"q[4]\" of the quantum circuit \"qc\"\n",
    "qc.h(q[1]) # apply h-gate to the qubit \"q[1]\" of the quantum circuit \"qc\"\n",
    "\n",
    "a = pi/7\n",
    "qc.ry(2*a,q[3]) # apply ry-gate with the specified angle to the qubit \"q[3]\" of the quantum circuit \"qc\"\n",
    "\n",
    "qc.cx(q[1],q[0]) # apply cx-gate to the qubits \"q[1]\" and \"q[0]\" of the quantum circuit \"qc\"\n",
    "\n",
    "qc.cu(2*a,0,0,0,q[1],q[0]) # apply controlled rotation operator with the specified angle \n",
    "                          #  to the qubits \"q[1]\" and \"q[0]\" of the quantum circuit \"qc\"\n",
    "\n",
    "qc.ccx(q[2],q[1],q[0]) # apply ccx-gate to the qubits \"q[2]\", \"q[1]\", and \"q[0]\" of the quantum circuit \"qc\"\n",
    "\n",
    "qc.barrier()\n",
    "\n",
    "qc.measure(q[0],c[3]) # measure q[0] and write the output on c[3]\n",
    "qc.measure(q[1],c[1]) # measure q[1] and write the output on c[1]\n",
    "qc.measure(q[2],c[4]) # measure q[2] and write the output on c[4]\n",
    "qc.measure(q[3],c[0]) # measure q[3] and write the output on c[0]\n",
    "qc.measure(q[4],c[2]) # measure q[4] and write the output on c[2]\n",
    "\n",
    "display(qc.draw())\n",
    "\n",
    "qc.barrier()\n",
    "\n",
    "qc.h(q[0]).c_if(c,5)\n",
    "qc.x(q[0]).c_if(c,3)\n",
    "qc.z(q[0]).c_if(c,1)\n",
    "\n",
    "for i in range(5):\n",
    "    if i % 2 ==0: qc.h(q[i])\n",
    "    else: qc.x(q[i])\n",
    "        \n",
    "b = 3*pi/11\n",
    "qc.cu(2*b,0,0,0,q[1],q[0])\n",
    "\n",
    "display(qc.draw(output='mpl',reverse_bits=True))\n",
    "\n",
    "job = AerSimulator().run(qc,shots=1000)\n",
    "counts = job.result().get_counts(qc)   \n",
    "print(\"measurement outcomes are:\",counts)\n",
    "print()\n",
    "\n",
    "q = QuantumRegister(2,\"q\")\n",
    "c = ClassicalRegister(2,\"c\")\n",
    "\n",
    "qc = QuantumCircuit(q,c)\n",
    "\n",
    "qc.h(q[0])\n",
    "qc.ry(a,q[0])\n",
    "qc.x(q[1])\n",
    "qc.cx(q[0],q[1])\n",
    "\n",
    "job = UnitarySimulator().run(qc,shots=1,optimization_level=0)\n",
    "precision = 3\n",
    "current_unitary=job.result().get_unitary(qc,precision).data\n",
    "\n",
    "print(\"unitary matrix is\")\n",
    "print(current_unitary)\n",
    "print()\n",
    "\n",
    "job = StatevectorSimulator().run(qc,optimization_level=0)\n",
    "precision = 3\n",
    "current_quantum_state=job.result().get_statevector(qc,precision).data\n",
    "print(\"quantum state is\")\n",
    "for val in current_quantum_state:\n",
    "    print(str(val.real)+\"+\"+str(val.imag)+\"j\")\n",
    "\n",
    "print()\n",
    "print(\"All looks fine :-)\")"
   ]
  }
 ],
 "metadata": {
  "kernelspec": {
   "display_name": "Python 3 (ipykernel)",
   "language": "python",
   "name": "python3"
  },
  "language_info": {
   "codemirror_mode": {
    "name": "ipython",
    "version": 3
   },
   "file_extension": ".py",
   "mimetype": "text/x-python",
   "name": "python",
   "nbconvert_exporter": "python",
   "pygments_lexer": "ipython3",
   "version": "3.11.7"
  }
 },
 "nbformat": 4,
 "nbformat_minor": 4
}
